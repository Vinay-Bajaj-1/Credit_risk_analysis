{
 "cells": [
  {
   "cell_type": "code",
   "execution_count": 1,
   "id": "eee7bfa2",
   "metadata": {},
   "outputs": [
    {
     "name": "stderr",
     "output_type": "stream",
     "text": [
      "2023-12-02 18:20:40.076 \n",
      "  \u001b[33m\u001b[1mWarning:\u001b[0m to view this Streamlit app on a browser, run it with the following\n",
      "  command:\n",
      "\n",
      "    streamlit run C:\\Users\\Vinay\\anaconda3\\Lib\\site-packages\\ipykernel_launcher.py [ARGUMENTS]\n"
     ]
    }
   ],
   "source": [
    "import streamlit as st\n",
    "import pandas as pd\n",
    "\n",
    "def preprocess_data(df):\n",
    "    dummies = ['Sub Grade', 'Home Ownership', 'Verification Status', 'Purpose', 'Initial List Status', 'Application Type']\n",
    "    main_df = pd.get_dummies(df, columns = dummies, drop_first = True)\n",
    "    return main_df\n",
    "    \n",
    "\n",
    "def main():\n",
    "    st.title(\"Loan Application Form\")\n",
    "\n",
    "    # Get user input for various fields\n",
    "    loan_amnt = st.number_input(\"Loan Amount ($)\", min_value=0, step=1)\n",
    "    term = st.selectbox(\"Term\", [\"36 months\", \"60 months\"])\n",
    "    int_rate = st.number_input(\"Interest Rate (%)\", min_value=0.0, step=0.01)\n",
    "    installment = st.number_input(\"Installment ($)\", min_value=0, step=1)\n",
    "    sub_grade = st.selectbox(\"Sub Grade\", [\"A1\", \"A2\", \"A3\", \"A4\", \"A5\", \"B1\", \"B2\", \"B3\", \"B4\", \"B5\",\n",
    "                                           \"C1\", \"C2\", \"C3\", \"C4\", \"C5\", \"D1\", \"D2\", \"D3\", \"D4\", \"D5\",\n",
    "                                           \"E1\", \"E2\", \"E3\", \"E4\", \"E5\", \"F1\", \"F2\", \"F3\", \"F4\", \"F5\",\n",
    "                                           \"G1\", \"G2\", \"G3\", \"G4\", \"G5\"])\n",
    "    home_ownership = st.selectbox(\"Home Ownership\", [\"Mortgage\", \"Rent\", \"Own\", \"Other\"])\n",
    "    annual_inc = st.number_input(\"Annual Income ($)\", min_value=0, step=1)\n",
    "    verification_status = st.selectbox(\"Verification Status\", [\"Source Verified\", \"Verified\"])\n",
    "    purpose = st.selectbox(\"Purpose\", [\"Credit Card\", \"Debt Consolidation\", \"Home Improvement\", \"House\",\n",
    "                                       \"Major Purchase\", \"Educational\", \"Medical\", \"Moving\", \"Renewable Energy\",\n",
    "                                       \"Other\", \"Small Business\", \"Wedding\", \"Vacation\"])\n",
    "    dti = st.number_input(\"Debt-to-Income Ratio\", min_value=0.0, step=0.01)\n",
    "    earliest_cr_line = st.number_input(\"Earliest Credit Line Year\", min_value=0, step=1)\n",
    "    open_acc = st.number_input(\"Open Accounts\", min_value=0, step=1)\n",
    "    pub_rec = st.number_input(\"Public Records\", min_value=0, step=1)\n",
    "    revol_bal = st.number_input(\"Revolving Balance ($)\", min_value=0, step=1)\n",
    "    revol_util = st.number_input(\"Revolving Utilization Rate (%)\", min_value=0.0, max_value=100.0, step=0.01)\n",
    "    total_acc = st.number_input(\"Total Accounts\", min_value=0, step=1)\n",
    "    initial_list_status = st.selectbox(\"Initial List Status\", [\"W\", \"T\"])\n",
    "    application_type = st.selectbox(\"Application Type\", [\"Joint\", \"Individual\"])\n",
    "    mort_acc = st.number_input(\"Mortgage Accounts\", min_value=0, step=1)\n",
    "    pub_rec_bankruptcies = st.number_input(\"Public Record Bankruptcies\", min_value=0, step=1)\n",
    "\n",
    "    # Display the collected information\n",
    "    user_data = pd.DataFrame({\n",
    "        'Loan Amount': [loan_amnt],\n",
    "        'Term': [term],\n",
    "        'Interest Rate': [int_rate],\n",
    "        'Installment': [installment],\n",
    "        'Sub Grade': [sub_grade],\n",
    "        'Home Ownership': [home_ownership],\n",
    "        'Annual Income': [annual_inc],\n",
    "        'Verification Status': [verification_status],\n",
    "        'Purpose': [purpose],\n",
    "        'Debt-to-Income Ratio': [dti],\n",
    "        'Earliest Credit Line Year': [earliest_cr_line],\n",
    "        'Open Accounts': [open_acc],\n",
    "        'Public Records': [pub_rec],\n",
    "        'Revolving Balance': [revol_bal],\n",
    "        'Revolving Utilization Rate': [revol_util],\n",
    "        'Total Accounts': [total_acc],\n",
    "        'Initial List Status': [initial_list_status],\n",
    "        'Application Type': [application_type],\n",
    "        'Mortgage Accounts': [mort_acc],\n",
    "        'Public Record Bankruptcies': [pub_rec_bankruptcies]\n",
    "    })\n",
    "    \n",
    "    if st.button(\"Submit\"):\n",
    "        # Call the preprocessing function\n",
    "        processed_data = preprocess_data(user_data)\n",
    "\n",
    "        # Display the processed data\n",
    "        st.subheader(\"Processed Application Data:\", processed_data.shape)\n",
    "        st.write(processed_data)\n",
    "        \n",
    "        \n",
    "if __name__ == \"__main__\":\n",
    "    main()\n"
   ]
  },
  {
   "cell_type": "code",
   "execution_count": null,
   "id": "c9ee338b",
   "metadata": {},
   "outputs": [],
   "source": []
  }
 ],
 "metadata": {
  "kernelspec": {
   "display_name": "Python 3 (ipykernel)",
   "language": "python",
   "name": "python3"
  },
  "language_info": {
   "codemirror_mode": {
    "name": "ipython",
    "version": 3
   },
   "file_extension": ".py",
   "mimetype": "text/x-python",
   "name": "python",
   "nbconvert_exporter": "python",
   "pygments_lexer": "ipython3",
   "version": "3.11.5"
  }
 },
 "nbformat": 4,
 "nbformat_minor": 5
}
